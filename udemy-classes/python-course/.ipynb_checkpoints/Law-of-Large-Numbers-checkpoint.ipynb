{
 "cells": [
  {
   "cell_type": "code",
   "execution_count": 4,
   "id": "4e60a0c6-96b7-4edc-8239-5f1f70d2a87c",
   "metadata": {},
   "outputs": [
    {
     "name": "stdout",
     "output_type": "stream",
     "text": [
      "0.689\n"
     ]
    }
   ],
   "source": [
    "import numpy as np\n",
    "from numpy.random import randn\n",
    "\n",
    "randomNumbers = randn(1000)\n",
    "count = 0\n",
    "\n",
    "for x in randomNumbers:\n",
    "    if x > -1 and x < 1:\n",
    "        count += 1\n",
    "\n",
    "proportion = count / 1000\n",
    "print (proportion)"
   ]
  },
  {
   "cell_type": "code",
   "execution_count": null,
   "id": "078ca9e4-fc7b-4f5a-b859-c0765efcdbd7",
   "metadata": {},
   "outputs": [],
   "source": []
  }
 ],
 "metadata": {
  "kernelspec": {
   "display_name": "Python 3 (ipykernel)",
   "language": "python",
   "name": "python3"
  },
  "language_info": {
   "codemirror_mode": {
    "name": "ipython",
    "version": 3
   },
   "file_extension": ".py",
   "mimetype": "text/x-python",
   "name": "python",
   "nbconvert_exporter": "python",
   "pygments_lexer": "ipython3",
   "version": "3.13.5"
  }
 },
 "nbformat": 4,
 "nbformat_minor": 5
}
